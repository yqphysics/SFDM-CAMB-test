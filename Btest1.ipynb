{
 "cells": [
  {
   "cell_type": "code",
   "execution_count": 1,
   "id": "3df5b26c-027c-4429-92a0-2a7110a12b67",
   "metadata": {},
   "outputs": [],
   "source": [
    "from matplotlib import pyplot as plt\n",
    "from matplotlib.gridspec import GridSpec\n",
    "import camb.dark_matter\n",
    "import numpy as np\n",
    "import camb\n",
    "from camb import camb as CAMB\n",
    "from camb.constants import Mpc, const_pi, G, m_p, eV, hbar"
   ]
  },
  {
   "cell_type": "code",
   "execution_count": 2,
   "id": "e886967f-e393-40f8-8ed5-718be6b66956",
   "metadata": {},
   "outputs": [
    {
     "ename": "",
     "evalue": "",
     "output_type": "error",
     "traceback": [
      "\u001b[1;31m在当前单元格或上一个单元格中执行代码时 Kernel 崩溃。\n",
      "\u001b[1;31m请查看单元格中的代码，以确定故障的可能原因。\n",
      "\u001b[1;31m单击<a href='https://aka.ms/vscodeJupyterKernelCrash'>此处</a>了解详细信息。\n",
      "\u001b[1;31m有关更多详细信息，请查看 Jupyter <a href='command:jupyter.viewOutput'>log</a>。"
     ]
    }
   ],
   "source": [
    "#### 宇宙学参数\n",
    "H0 = 67.5                 # Hubble 率\n",
    "h = H0/100\n",
    "omk = 0                   # 空间曲率\n",
    "ombh2 = 0.022             # 重子物质\n",
    "omdmh2 = 0.122            # 暗物质\n",
    "\n",
    "##### 暗物质\n",
    "######## CSF 参数\n",
    "m_phi = 10**(-22)             # 粒子质量，单位 eV\n",
    "Num_density = 1e-22          # 粒子数密度， 单位 m^(-3)\n",
    "omphih2 = 0.001             # 密度分数\n",
    "\n",
    "######## CDM\n",
    "omch2 = omdmh2 - omphih2  # CDM\n",
    "\n",
    "##### 有质量中微子\n",
    "mnu = 0.06               # 中微子质量， eV\n",
    "\n",
    "\n",
    "##### 再电离\n",
    "tau = 0.06               # 再电离光深\n",
    "\n",
    "\n",
    "##### 宇宙初始条件\n",
    "As = 2e-9                # 标量功率谱振幅\n",
    "ns = 0.965               # 标量谱指数\n",
    "\n",
    "##### 非线性\n",
    "\n",
    "halofit_version = 'mead'\n",
    "\n",
    "##### CMB\n",
    "lmax = 3000\n",
    "\n"
   ]
  },
  {
   "cell_type": "code",
   "execution_count": 3,
   "id": "7b59a5ed-fa33-4bd9-8272-6da63ccd93ba",
   "metadata": {},
   "outputs": [],
   "source": [
    "#### CAMB 参数设置\n",
    "m_phi = 10**(-22)              # 粒子质量，单位 eV\n",
    "dotR = 10**(5)*(eV)**(1/2)     # CSF 的径向速度，单位 eV^(1/2)\n",
    "pars1 = camb.set_params(H0 = H0, ombh2 = ombh2, omch2 = omch2, mnu = mnu, omk = omk, tau = tau,\n",
    "                       As = As, ns = ns, halofit_version = halofit_version, lmax = lmax, \n",
    "                       m_phi = m_phi, Num_density = Num_density, omphih2 = omphih2, dotR = dotR,\n",
    "                       All_DM_is_CDM = False, DM_include_CSF = True, dark_matter_model='DarkMatterCSF')\n",
    "\n",
    "\n",
    "results1 = camb.get_results(pars1)\n",
    "\n",
    "results1.set_params(pars1)\n",
    "\n",
    "results1.DarkMatterData.get_phi = True\n",
    "\n",
    "CAMB.csf_background(results1.DarkMatterData,pars1.DarkMatter,results1)\n",
    "CSFData = results1.DarkMatterData\n",
    "\n",
    "\n",
    "a1 = CSFData.a_arr\n",
    "w1 = CSFData.w_phi"
   ]
  },
  {
   "cell_type": "code",
   "execution_count": 4,
   "id": "646929f8-f73d-4b86-bd5a-a1ed210a2b28",
   "metadata": {},
   "outputs": [],
   "source": [
    "#### CAMB 参数设置\n",
    "m_phi = 10**(-26)             # 粒子质量，单位 eV\n",
    "dotR = 10**(12)*(eV)**(1/2)                   # CSF 的径向速度\n",
    "pars2 = camb.set_params(H0 = H0, ombh2 = ombh2, omch2 = omch2, mnu = mnu, omk = omk, tau = tau,\n",
    "                       As = As, ns = ns, halofit_version = halofit_version, lmax = lmax, \n",
    "                       m_phi = m_phi, Num_density = Num_density, omphih2 = omphih2, dotR = dotR,\n",
    "                       All_DM_is_CDM = False, DM_include_CSF = True, dark_matter_model='DarkMatterCSF')\n",
    "\n",
    "\n",
    "results2 = camb.get_results(pars2)\n",
    "\n",
    "results2.set_params(pars2)\n",
    "\n",
    "results2.DarkMatterData.get_phi = True\n",
    "\n",
    "CAMB.csf_background(results2.DarkMatterData,pars2.DarkMatter,results2)\n",
    "CSFData = results2.DarkMatterData\n",
    "\n",
    "\n",
    "a2 = CSFData.a_arr\n",
    "w2 = CSFData.w_phi"
   ]
  },
  {
   "cell_type": "code",
   "execution_count": 5,
   "id": "9bac088d-7852-4055-a558-1c98b34c0add",
   "metadata": {},
   "outputs": [],
   "source": [
    "#### CAMB 参数设置\n",
    "m_phi = 10**(-26)             # 粒子质量，单位 eV, 用于估算的 CSF 质量的推荐质量范围为 7.58e-26 eV 到 4.32e-33 eV\n",
    "dotR = 10**(13.6)*(eV)**(1/2)                  # CSF 的径向速度，单位 kg^(1/2)·m^(-1/2)\n",
    "pars3 = camb.set_params(H0 = H0, ombh2 = ombh2, omch2 = omch2, mnu = mnu, omk = omk, tau = tau,\n",
    "                       As = As, ns = ns, halofit_version = halofit_version, lmax = lmax, \n",
    "                       m_phi = m_phi, Num_density = Num_density, omphih2 = omphih2, dotR = dotR,\n",
    "                       All_DM_is_CDM = False, DM_include_CSF = True, dark_matter_model='DarkMatterCSF')\n",
    "\n",
    "\n",
    "results3 = camb.get_results(pars3)\n",
    "\n",
    "results3.set_params(pars3)\n",
    "\n",
    "results3.DarkMatterData.get_phi = True\n",
    "\n",
    "CAMB.csf_background(results3.DarkMatterData,pars3.DarkMatter,results3)\n",
    "CSFData = results3.DarkMatterData\n",
    "\n",
    "\n",
    "a3 = CSFData.a_arr\n",
    "w3 = CSFData.w_phi"
   ]
  },
  {
   "cell_type": "code",
   "execution_count": null,
   "id": "b12ca21c-5974-4764-ad7c-77869eb0b2a3",
   "metadata": {},
   "outputs": [],
   "source": [
    "\n",
    "plt.rcParams['text.usetex'] = True\n",
    "plt.rcParams['font.family'] = 'serif'\n",
    "\n",
    "\n",
    "plt.plot(a1, w1, ls = '-',color = 'C2',linewidth = 1.6,label = r'$\\dot{R}_0 = 10^{-5}$')\n",
    "plt.plot(a2, w2, ls = '-',color = 'C9',linewidth = 1.6,label = r'$\\dot{R}_0 = 10^{4}$')\n",
    "plt.plot(a3, w3, ls = '-', color = 'C0',linewidth = 1.6,label = r'$\\dot{R}_0 = 10^{5.5}$')\n",
    "plt.xscale(\"log\")\n",
    "plt.legend()\n",
    "plt.tick_params(axis = 'both',\n",
    "                which = 'major',\n",
    "                labelsize = 10,\n",
    "                labelcolor='black',\n",
    "                direction='in',\n",
    "                width = 1.2)\n",
    "plt.xticks(fontsize = 10)\n",
    "plt.yticks(fontsize = 10)\n",
    "plt.tick_params(axis=\"both\",labelsize = 12)\n",
    "plt.xlabel(r'$a$',fontsize = 15)\n",
    "plt.ylabel(r'$w$',fontsize = 15)\n",
    "plt.savefig('wa.pdf')\n",
    "plt.show()"
   ]
  },
  {
   "cell_type": "code",
   "execution_count": null,
   "id": "d182b70c-da81-4f56-911c-67948266b073",
   "metadata": {},
   "outputs": [],
   "source": []
  },
  {
   "cell_type": "code",
   "execution_count": null,
   "id": "fc3a153a-0ef5-4a06-85ad-917efd7e37f2",
   "metadata": {},
   "outputs": [],
   "source": []
  }
 ],
 "metadata": {
  "kernelspec": {
   "display_name": "CMB",
   "language": "python",
   "name": "python3"
  },
  "language_info": {
   "codemirror_mode": {
    "name": "ipython",
    "version": 3
   },
   "file_extension": ".py",
   "mimetype": "text/x-python",
   "name": "python",
   "nbconvert_exporter": "python",
   "pygments_lexer": "ipython3",
   "version": "3.10.14"
  }
 },
 "nbformat": 4,
 "nbformat_minor": 5
}
